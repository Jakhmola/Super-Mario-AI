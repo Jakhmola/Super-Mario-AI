{
 "cells": [
  {
   "cell_type": "markdown",
   "id": "2e2fba65",
   "metadata": {},
   "source": [
    "# Setup Environment"
   ]
  },
  {
   "cell_type": "code",
   "execution_count": 4,
   "id": "12188660",
   "metadata": {
    "scrolled": true
   },
   "outputs": [
    {
     "name": "stdout",
     "output_type": "stream",
     "text": [
      "Requirement already satisfied: gym_super_mario_bros in c:\\users\\shubh\\.conda\\envs\\mario\\lib\\site-packages (7.3.0)\n",
      "Requirement already satisfied: nes-py>=8.0.0 in c:\\users\\shubh\\.conda\\envs\\mario\\lib\\site-packages (from gym_super_mario_bros) (8.2.1)\n",
      "Requirement already satisfied: tqdm>=4.48.2 in c:\\users\\shubh\\.conda\\envs\\mario\\lib\\site-packages (from nes-py>=8.0.0->gym_super_mario_bros) (4.64.1)\n",
      "Requirement already satisfied: numpy>=1.18.5 in c:\\users\\shubh\\.conda\\envs\\mario\\lib\\site-packages (from nes-py>=8.0.0->gym_super_mario_bros) (1.21.5)\n",
      "Requirement already satisfied: gym>=0.17.2 in c:\\users\\shubh\\.conda\\envs\\mario\\lib\\site-packages (from nes-py>=8.0.0->gym_super_mario_bros) (0.21.0)\n",
      "Requirement already satisfied: pyglet<=1.5.21,>=1.4.0 in c:\\users\\shubh\\appdata\\roaming\\python\\python310\\site-packages (from nes-py>=8.0.0->gym_super_mario_bros) (1.5.21)\n",
      "Requirement already satisfied: cloudpickle>=1.2.0 in c:\\users\\shubh\\.conda\\envs\\mario\\lib\\site-packages (from gym>=0.17.2->nes-py>=8.0.0->gym_super_mario_bros) (2.0.0)\n",
      "Requirement already satisfied: colorama in c:\\users\\shubh\\.conda\\envs\\mario\\lib\\site-packages (from tqdm>=4.48.2->nes-py>=8.0.0->gym_super_mario_bros) (0.4.6)\n"
     ]
    }
   ],
   "source": [
    "# gym library for super mario bros \n",
    "!pip install gym_super_mario_bros==7.4.0"
   ]
  },
  {
   "cell_type": "code",
   "execution_count": 5,
   "id": "abcdcd00",
   "metadata": {},
   "outputs": [
    {
     "name": "stdout",
     "output_type": "stream",
     "text": [
      "Requirement already satisfied: nes_py in c:\\users\\shubh\\.conda\\envs\\mario\\lib\\site-packages (8.2.1)\n",
      "Requirement already satisfied: gym>=0.17.2 in c:\\users\\shubh\\.conda\\envs\\mario\\lib\\site-packages (from nes_py) (0.21.0)\n",
      "Requirement already satisfied: pyglet<=1.5.21,>=1.4.0 in c:\\users\\shubh\\appdata\\roaming\\python\\python310\\site-packages (from nes_py) (1.5.21)\n",
      "Requirement already satisfied: numpy>=1.18.5 in c:\\users\\shubh\\.conda\\envs\\mario\\lib\\site-packages (from nes_py) (1.21.5)\n",
      "Requirement already satisfied: tqdm>=4.48.2 in c:\\users\\shubh\\.conda\\envs\\mario\\lib\\site-packages (from nes_py) (4.64.1)\n",
      "Requirement already satisfied: cloudpickle>=1.2.0 in c:\\users\\shubh\\.conda\\envs\\mario\\lib\\site-packages (from gym>=0.17.2->nes_py) (2.0.0)\n",
      "Requirement already satisfied: colorama in c:\\users\\shubh\\.conda\\envs\\mario\\lib\\site-packages (from tqdm>=4.48.2->nes_py) (0.4.6)\n"
     ]
    }
   ],
   "source": [
    "# NES-emulator and provides OpenAI-Gym interface\n",
    "!pip install nes_py"
   ]
  },
  {
   "cell_type": "code",
   "execution_count": 1,
   "id": "11178470",
   "metadata": {},
   "outputs": [],
   "source": [
    "from nes_py.wrappers import JoypadSpace\n",
    "import gym_super_mario_bros\n",
    "from gym_super_mario_bros.actions import SIMPLE_MOVEMENT"
   ]
  },
  {
   "cell_type": "code",
   "execution_count": 2,
   "id": "cc41a720",
   "metadata": {},
   "outputs": [
    {
     "data": {
      "text/plain": [
       "[['NOOP'],\n",
       " ['right'],\n",
       " ['right', 'A'],\n",
       " ['right', 'B'],\n",
       " ['right', 'A', 'B'],\n",
       " ['A'],\n",
       " ['left']]"
      ]
     },
     "execution_count": 2,
     "metadata": {},
     "output_type": "execute_result"
    }
   ],
   "source": [
    "# actions possible in \n",
    "SIMPLE_MOVEMENT"
   ]
  },
  {
   "cell_type": "code",
   "execution_count": 3,
   "id": "003e648b",
   "metadata": {},
   "outputs": [],
   "source": [
    "# create environment for playing super mario\n",
    "# (render_mode='human' forces env.render() to render env in human readable format)\n",
    "env = gym_super_mario_bros.make('SuperMarioBros-v0')\n",
    "\n",
    "# map action_space of env to only 7 possible movements\n",
    "env = JoypadSpace(env, SIMPLE_MOVEMENT)"
   ]
  },
  {
   "cell_type": "code",
   "execution_count": 4,
   "id": "e18d1a8a",
   "metadata": {},
   "outputs": [
    {
     "data": {
      "text/plain": [
       "(240, 256, 3)"
      ]
     },
     "execution_count": 4,
     "metadata": {},
     "output_type": "execute_result"
    }
   ],
   "source": [
    "# returns observation of type Box with {low, high, n-dim tuple, dtype}\n",
    "env.observation_space.shape"
   ]
  },
  {
   "cell_type": "code",
   "execution_count": 5,
   "id": "72fccaeb",
   "metadata": {},
   "outputs": [
    {
     "data": {
      "text/plain": [
       "Discrete(7)"
      ]
     },
     "execution_count": 5,
     "metadata": {},
     "output_type": "execute_result"
    }
   ],
   "source": [
    "env.action_space"
   ]
  },
  {
   "cell_type": "code",
   "execution_count": 6,
   "id": "3d581748",
   "metadata": {},
   "outputs": [
    {
     "name": "stderr",
     "output_type": "stream",
     "text": [
      "C:\\Users\\shubh\\AppData\\Roaming\\Python\\Python310\\site-packages\\pyglet\\image\\codecs\\wic.py:289: UserWarning: [WinError -2147417850] Cannot change thread mode after it is set\n",
      "  warnings.warn(str(err))\n"
     ]
    }
   ],
   "source": [
    "# dummy run for 1000 steps\n",
    "terminated = True\n",
    "for _ in range(1000):\n",
    "    if terminated:\n",
    "        observation = env.reset()\n",
    "    observation, reward, terminated, info = env.step(env.action_space.sample())\n",
    "    env.render()\n",
    "    \n",
    "env.close()"
   ]
  },
  {
   "cell_type": "markdown",
   "id": "1672d148",
   "metadata": {},
   "source": [
    "# Preprocessing environment"
   ]
  },
  {
   "cell_type": "code",
   "execution_count": 11,
   "id": "79116003",
   "metadata": {},
   "outputs": [],
   "source": [
    "from gym.wrappers import GrayScaleObservation\n",
    "from stable_baselines3.common.vec_env import DummyVecEnv, VecFrameStack\n",
    "import matplotlib.pyplot as plt"
   ]
  },
  {
   "cell_type": "code",
   "execution_count": 24,
   "id": "cb44db39",
   "metadata": {},
   "outputs": [],
   "source": [
    "env = gym_super_mario_bros.make('SuperMarioBros-v0')\n",
    "\n",
    "# map action_space of env to only 7 possible movements\n",
    "env = JoypadSpace(env, SIMPLE_MOVEMENT)"
   ]
  },
  {
   "cell_type": "code",
   "execution_count": 25,
   "id": "a9a6f329",
   "metadata": {},
   "outputs": [],
   "source": [
    "env = GrayScaleObservation(env, keep_dim=True)\n",
    "# vectorize environment \n",
    "env = DummyVecEnv([lambda: env])\n",
    "# takes vectorized env and stacks 4 image observations on last dimension of image\n",
    "env = VecFrameStack(env, 4, channels_order='last')"
   ]
  },
  {
   "cell_type": "code",
   "execution_count": 26,
   "id": "0fdd824f",
   "metadata": {},
   "outputs": [
    {
     "data": {
      "text/plain": [
       "(240, 256, 4)"
      ]
     },
     "execution_count": 26,
     "metadata": {},
     "output_type": "execute_result"
    }
   ],
   "source": [
    "env.observation_space.shape"
   ]
  },
  {
   "cell_type": "code",
   "execution_count": 29,
   "id": "01315e24",
   "metadata": {},
   "outputs": [],
   "source": [
    "observation = env.reset()\n",
    "#observation, reward, terminated, info = env.step(env.action_space.sample())"
   ]
  },
  {
   "cell_type": "code",
   "execution_count": 30,
   "id": "89e97288",
   "metadata": {},
   "outputs": [
    {
     "data": {
      "text/plain": [
       "(1, 240, 256, 4)"
      ]
     },
     "execution_count": 30,
     "metadata": {},
     "output_type": "execute_result"
    }
   ],
   "source": [
    "observation.shape"
   ]
  },
  {
   "cell_type": "code",
   "execution_count": 36,
   "id": "e7d7b511",
   "metadata": {},
   "outputs": [
    {
     "data": {
      "text/plain": [
       "[['NOOP'],\n",
       " ['right'],\n",
       " ['right', 'A'],\n",
       " ['right', 'B'],\n",
       " ['right', 'A', 'B'],\n",
       " ['A'],\n",
       " ['left']]"
      ]
     },
     "execution_count": 36,
     "metadata": {},
     "output_type": "execute_result"
    }
   ],
   "source": [
    "SIMPLE_MOVEMENT"
   ]
  },
  {
   "cell_type": "code",
   "execution_count": 46,
   "id": "41f90ce0",
   "metadata": {},
   "outputs": [],
   "source": [
    "observation, reward, terminated, info = env.step([2])"
   ]
  },
  {
   "cell_type": "code",
   "execution_count": 49,
   "id": "45cdbcfa",
   "metadata": {},
   "outputs": [
    {
     "data": {
      "image/png": "[encoded data removed]",
      "text/plain": [
       "<Figure size 2000x1200 with 4 Axes>"
      ]
     },
     "metadata": {},
     "output_type": "display_data"
    }
   ],
   "source": [
    "# frame stacking\n",
    "plt.figure(figsize=(20,12))\n",
    "for i in range(observation.shape[3]):\n",
    "    plt.subplot(1,observation.shape[3],i+1)\n",
    "    plt.imshow(observation[0][:,:,i])\n",
    "    "
   ]
  },
  {
   "cell_type": "code",
   "execution_count": null,
   "id": "85e970ad",
   "metadata": {},
   "outputs": [],
   "source": []
  }
 ],
 "metadata": {
  "kernelspec": {
   "display_name": "Python [conda env:.conda-mario]",
   "language": "python",
   "name": "conda-env-.conda-mario-py"
  },
  "language_info": {
   "codemirror_mode": {
    "name": "ipython",
    "version": 3
   },
   "file_extension": ".py",
   "mimetype": "text/x-python",
   "name": "python",
   "nbconvert_exporter": "python",
   "pygments_lexer": "ipython3",
   "version": "3.10.9"
  }
 },
 "nbformat": 4,
 "nbformat_minor": 5
}
