{
 "cells": [
  {
   "cell_type": "markdown",
   "id": "2e2fba65",
   "metadata": {},
   "source": [
    "# Setup Environment"
   ]
  },
  {
   "cell_type": "code",
   "execution_count": 4,
   "id": "12188660",
   "metadata": {},
   "outputs": [
    {
     "name": "stdout",
     "output_type": "stream",
     "text": [
      "Requirement already satisfied: gym_super_mario_bros in c:\\users\\shubh\\.conda\\envs\\mario\\lib\\site-packages (7.3.0)\n",
      "Requirement already satisfied: nes-py>=8.0.0 in c:\\users\\shubh\\.conda\\envs\\mario\\lib\\site-packages (from gym_super_mario_bros) (8.2.1)\n",
      "Requirement already satisfied: numpy>=1.18.5 in c:\\users\\shubh\\.conda\\envs\\mario\\lib\\site-packages (from nes-py>=8.0.0->gym_super_mario_bros) (1.21.5)\n",
      "Requirement already satisfied: gym>=0.17.2 in c:\\users\\shubh\\appdata\\roaming\\python\\python310\\site-packages (from nes-py>=8.0.0->gym_super_mario_bros) (0.26.2)\n",
      "Requirement already satisfied: tqdm>=4.48.2 in c:\\users\\shubh\\.conda\\envs\\mario\\lib\\site-packages (from nes-py>=8.0.0->gym_super_mario_bros) (4.64.1)\n",
      "Requirement already satisfied: pyglet<=1.5.21,>=1.4.0 in c:\\users\\shubh\\appdata\\roaming\\python\\python310\\site-packages (from nes-py>=8.0.0->gym_super_mario_bros) (1.5.21)\n",
      "Requirement already satisfied: gym-notices>=0.0.4 in c:\\users\\shubh\\appdata\\roaming\\python\\python310\\site-packages (from gym>=0.17.2->nes-py>=8.0.0->gym_super_mario_bros) (0.0.8)\n",
      "Requirement already satisfied: cloudpickle>=1.2.0 in c:\\users\\shubh\\.conda\\envs\\mario\\lib\\site-packages (from gym>=0.17.2->nes-py>=8.0.0->gym_super_mario_bros) (2.0.0)\n",
      "Requirement already satisfied: colorama in c:\\users\\shubh\\.conda\\envs\\mario\\lib\\site-packages (from tqdm>=4.48.2->nes-py>=8.0.0->gym_super_mario_bros) (0.4.6)\n",
      "Note: you may need to restart the kernel to use updated packages.\n"
     ]
    }
   ],
   "source": [
    "# gym library for super mario bros \n",
    "pip install gym_super_mario_bros"
   ]
  },
  {
   "cell_type": "code",
   "execution_count": 3,
   "id": "abcdcd00",
   "metadata": {},
   "outputs": [
    {
     "name": "stdout",
     "output_type": "stream",
     "text": [
      "Requirement already satisfied: nes_py in c:\\users\\shubh\\.conda\\envs\\mario\\lib\\site-packages (8.2.1)\n",
      "Requirement already satisfied: gym>=0.17.2 in c:\\users\\shubh\\appdata\\roaming\\python\\python310\\site-packages (from nes_py) (0.26.2)\n",
      "Requirement already satisfied: pyglet<=1.5.21,>=1.4.0 in c:\\users\\shubh\\appdata\\roaming\\python\\python310\\site-packages (from nes_py) (1.5.21)\n",
      "Requirement already satisfied: numpy>=1.18.5 in c:\\users\\shubh\\.conda\\envs\\mario\\lib\\site-packages (from nes_py) (1.21.5)\n",
      "Requirement already satisfied: tqdm>=4.48.2 in c:\\users\\shubh\\.conda\\envs\\mario\\lib\\site-packages (from nes_py) (4.64.1)\n",
      "Requirement already satisfied: cloudpickle>=1.2.0 in c:\\users\\shubh\\.conda\\envs\\mario\\lib\\site-packages (from gym>=0.17.2->nes_py) (2.0.0)\n",
      "Requirement already satisfied: gym-notices>=0.0.4 in c:\\users\\shubh\\appdata\\roaming\\python\\python310\\site-packages (from gym>=0.17.2->nes_py) (0.0.8)\n",
      "Requirement already satisfied: colorama in c:\\users\\shubh\\.conda\\envs\\mario\\lib\\site-packages (from tqdm>=4.48.2->nes_py) (0.4.6)\n",
      "Note: you may need to restart the kernel to use updated packages.\n"
     ]
    }
   ],
   "source": [
    "# NES-emulator and provides OpenAI-Gym interface\n",
    "pip install nes_py"
   ]
  },
  {
   "cell_type": "code",
   "execution_count": 5,
   "id": "11178470",
   "metadata": {},
   "outputs": [],
   "source": [
    "from nes_py.wrappers import JoypadSpace\n",
    "import gym_super_mario_bros\n",
    "from gym_super_mario_bros.actions import SIMPLE_MOVEMENT"
   ]
  },
  {
   "cell_type": "code",
   "execution_count": 6,
   "id": "d2e0bc7f",
   "metadata": {},
   "outputs": [
    {
     "data": {
      "text/plain": [
       "[['NOOP'],\n",
       " ['right'],\n",
       " ['right', 'A'],\n",
       " ['right', 'B'],\n",
       " ['right', 'A', 'B'],\n",
       " ['A'],\n",
       " ['left']]"
      ]
     },
     "execution_count": 6,
     "metadata": {},
     "output_type": "execute_result"
    }
   ],
   "source": [
    "# actions possible in \n",
    "SIMPLE_MOVEMENT"
   ]
  },
  {
   "cell_type": "code",
   "execution_count": 9,
   "id": "22daaee6",
   "metadata": {},
   "outputs": [],
   "source": [
    "# create environment for playing super mario\n",
    "# (render_mode='human' forces env.render() to render env in human readable format)\n",
    "env = gym_super_mario_bros.make('SuperMarioBros-v0', apply_api_compatibility=True, render_mode=\"human\")\n",
    "\n",
    "# map action_space of env to only 7 possible movements\n",
    "env = JoypadSpace(env, SIMPLE_MOVEMENT)"
   ]
  },
  {
   "cell_type": "code",
   "execution_count": 10,
   "id": "e4cd9108",
   "metadata": {},
   "outputs": [
    {
     "data": {
      "text/plain": [
       "Box(0, 255, (240, 256, 3), uint8)"
      ]
     },
     "execution_count": 10,
     "metadata": {},
     "output_type": "execute_result"
    }
   ],
   "source": [
    "# returns observation of type Box with {low, high, n-dim tuple, dtype}\n",
    "env.observation_space"
   ]
  },
  {
   "cell_type": "code",
   "execution_count": 15,
   "id": "ee4e504d",
   "metadata": {},
   "outputs": [
    {
     "name": "stderr",
     "output_type": "stream",
     "text": [
      "C:\\Users\\shubh\\.conda\\envs\\mario\\lib\\site-packages\\gym_super_mario_bros\\smb_env.py:148: RuntimeWarning: overflow encountered in ubyte_scalars\n",
      "  return (self.ram[0x86] - self.ram[0x071c]) % 256\n"
     ]
    }
   ],
   "source": [
    "# dummy run for 1000 steps\n",
    "observation, info = env.reset()\n",
    "for _ in range(1000):\n",
    "    observation, reward, terminated, truncated, info = env.step(env.action_space.sample())\n",
    "\n",
    "    if terminated or truncated:\n",
    "        observation, info = env.reset()\n",
    "\n",
    "env.close()"
   ]
  },
  {
   "cell_type": "code",
   "execution_count": null,
   "id": "9f0a468d",
   "metadata": {},
   "outputs": [],
   "source": []
  },
  {
   "cell_type": "code",
   "execution_count": null,
   "id": "773b3e07",
   "metadata": {},
   "outputs": [],
   "source": []
  },
  {
   "cell_type": "code",
   "execution_count": null,
   "id": "79116003",
   "metadata": {},
   "outputs": [],
   "source": []
  }
 ],
 "metadata": {
  "kernelspec": {
   "display_name": "Python [conda env:.conda-mario]",
   "language": "python",
   "name": "conda-env-.conda-mario-py"
  },
  "language_info": {
   "codemirror_mode": {
    "name": "ipython",
    "version": 3
   },
   "file_extension": ".py",
   "mimetype": "text/x-python",
   "name": "python",
   "nbconvert_exporter": "python",
   "pygments_lexer": "ipython3",
   "version": "3.10.9"
  }
 },
 "nbformat": 4,
 "nbformat_minor": 5
}
